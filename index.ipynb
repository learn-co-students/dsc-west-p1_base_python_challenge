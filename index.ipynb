{
 "cells": [
  {
   "cell_type": "markdown",
   "metadata": {},
   "source": [
    "# Base Python Week 1 Code Challenge"
   ]
  },
  {
   "cell_type": "markdown",
   "metadata": {},
   "source": [
    "The present code challenge will test your skills in base Python.    \n",
    "You will be asked to show your knowledge of:\n",
    " \n",
    " - basic Python types - strings, floats/integers, lists, and dictionaries.\n",
    " - for-loops and if/else statements\n",
    " - functions\n",
    " "
   ]
  },
  {
   "cell_type": "markdown",
   "metadata": {},
   "source": [
    "You are presented with a data set describing scooter rides.  Chicago rolled out a pilot program for rentable scooters in 2019.\n",
    "\n",
    "<img src='./img/scooter_pilot.png' height='500' width='500'>"
   ]
  },
  {
   "cell_type": "code",
   "execution_count": 37,
   "metadata": {},
   "outputs": [
    {
     "name": "stdout",
     "output_type": "stream",
     "text": [
      "The autoreload extension is already loaded. To reload it, use:\n",
      "  %reload_ext autoreload\n"
     ]
    }
   ],
   "source": [
    "# Run cell with no changes\n",
    "\n",
    "import sys\n",
    "\n",
    "sys.path.append('src')\n",
    "\n",
    "%load_ext autoreload\n",
    "%autoreload 2\n",
    "\n",
    "from data_import import load_scooter, load_trip_distance, load_start_community_area, load_trip_dictionary\n",
    "data = load_scooter()"
   ]
  },
  {
   "cell_type": "code",
   "execution_count": 38,
   "metadata": {},
   "outputs": [
    {
     "data": {
      "text/plain": [
       "{'trip_id': '33b50938-5626-4124-ba57-cc0a3dd058aa',\n",
       " 'trip_distance': '3793',\n",
       " 'trip_duration': '1152',\n",
       " 'start_community_area_number': '15',\n",
       " 'end_community_area_number': '15'}"
      ]
     },
     "execution_count": 38,
     "metadata": {},
     "output_type": "execute_result"
    }
   ],
   "source": [
    "data[0]"
   ]
  },
  {
   "cell_type": "markdown",
   "metadata": {},
   "source": [
    "As you see in the output from the cell above, each ride data point contains information about distance, time, and the start and end locations of the trips. "
   ]
  },
  {
   "cell_type": "markdown",
   "metadata": {},
   "source": [
    "# Strings"
   ]
  },
  {
   "cell_type": "markdown",
   "metadata": {},
   "source": [
    "Each trip in the Scooter data consists of a `'start_community_area_number'` and an `'end_community_area_number'`.  \n",
    "\n",
    "The start and end community area number are assigned to two variables below: `trip1_scan` and `trip1_ecan` respectively."
   ]
  },
  {
   "cell_type": "code",
   "execution_count": 118,
   "metadata": {},
   "outputs": [],
   "source": [
    "trip1_scan = data[0]['start_community_area_number']\n",
    "trip1_ecan = data[0]['end_community_area_number']"
   ]
  },
  {
   "cell_type": "markdown",
   "metadata": {},
   "source": [
    "## Task 1:\n",
    "Create a new variable, `trip1_st_end_cn` that combines the start community area and the end community area with an underscore. "
   ]
  },
  {
   "cell_type": "code",
   "execution_count": 119,
   "metadata": {},
   "outputs": [],
   "source": [
    "# Your code here"
   ]
  },
  {
   "cell_type": "code",
   "execution_count": 40,
   "metadata": {},
   "outputs": [
    {
     "data": {
      "text/plain": [
       "'15_15'"
      ]
     },
     "execution_count": 40,
     "metadata": {},
     "output_type": "execute_result"
    }
   ],
   "source": [
    "#__SOLUTION__\n",
    "trip1_st_end_cn = trip1_scan + '_' + trip1_ecan\n",
    "trip1_st_end_cn"
   ]
  },
  {
   "cell_type": "markdown",
   "metadata": {},
   "source": [
    "# Ints and Floats\n",
    "\n",
    "## Task 2:\n",
    "Two string variables are defined below named `trip1_dist` and `trip1_time`. "
   ]
  },
  {
   "cell_type": "code",
   "execution_count": 121,
   "metadata": {},
   "outputs": [],
   "source": [
    "trip1_dist = data[0]['trip_distance']\n",
    "trip1_time = data[0]['trip_distance']"
   ]
  },
  {
   "cell_type": "markdown",
   "metadata": {},
   "source": [
    "  - First: convert these strings to integers or floats. \n",
    "  - Second: the original units are in meters and seconds. Make a new variable, `trip_mph` which represents speed in mph.  \n",
    "  \n",
    "> Hint: to convert meters to miles, divide by 1609."
   ]
  },
  {
   "cell_type": "code",
   "execution_count": 122,
   "metadata": {},
   "outputs": [],
   "source": [
    "# Your code here\n",
    "\n",
    "trip_mpg = None"
   ]
  },
  {
   "cell_type": "code",
   "execution_count": 42,
   "metadata": {},
   "outputs": [
    {
     "data": {
      "text/plain": [
       "2.237414543194531"
      ]
     },
     "execution_count": 42,
     "metadata": {},
     "output_type": "execute_result"
    }
   ],
   "source": [
    "#__SOLUTION__\n",
    "\n",
    "trip_mph = (int(trip1_dist)/1609)/(int(trip1_time)/(60*60))\n",
    "trip_mph"
   ]
  },
  {
   "cell_type": "markdown",
   "metadata": {},
   "source": [
    "# Basic List Manipulation"
   ]
  },
  {
   "cell_type": "markdown",
   "metadata": {},
   "source": [
    "## Task 3"
   ]
  },
  {
   "cell_type": "markdown",
   "metadata": {},
   "source": [
    "The data list is comprised of 943 scooter rides."
   ]
  },
  {
   "cell_type": "code",
   "execution_count": 53,
   "metadata": {},
   "outputs": [
    {
     "name": "stdout",
     "output_type": "stream",
     "text": [
      "The scooter ride list has 943 elements.\n"
     ]
    }
   ],
   "source": [
    "print(f'The scooter ride list has {len(data)} elements.')"
   ]
  },
  {
   "cell_type": "markdown",
   "metadata": {},
   "source": [
    "They are ordered by start_community_area_number.  The last 30 records are rides starting in community area 31.  \n",
    "Create a new list called `trips_area_31` that consists of only rides that start in area 31."
   ]
  },
  {
   "cell_type": "code",
   "execution_count": 54,
   "metadata": {},
   "outputs": [],
   "source": [
    "# Your code here\n",
    "\n",
    "trips_area_31 = None"
   ]
  },
  {
   "cell_type": "code",
   "execution_count": 55,
   "metadata": {},
   "outputs": [
    {
     "data": {
      "text/plain": [
       "30"
      ]
     },
     "execution_count": 55,
     "metadata": {},
     "output_type": "execute_result"
    }
   ],
   "source": [
    "#__SOLUTION__\n",
    "\n",
    "trips_area_31 = data[-30:]\n",
    "len(trips_area_31)"
   ]
  },
  {
   "cell_type": "markdown",
   "metadata": {},
   "source": [
    "## Task 4"
   ]
  },
  {
   "cell_type": "markdown",
   "metadata": {},
   "source": [
    "Below, information associated with a new trip is defined.  Add this trip to the end of the trips_area_31 list."
   ]
  },
  {
   "cell_type": "code",
   "execution_count": 59,
   "metadata": {},
   "outputs": [],
   "source": [
    "new_trip = {'trip_id':'1149z0gf-1a10-4828-bdb9-3b7b3a23d011' , \n",
    "                'trip_distance':'3110', \n",
    "                'trip_duration':'1099', \n",
    "                'start_community_area_number':'31', \n",
    "                'end_community_area_number':'28'}\n"
   ]
  },
  {
   "cell_type": "code",
   "execution_count": 57,
   "metadata": {},
   "outputs": [],
   "source": [
    "# Your code here"
   ]
  },
  {
   "cell_type": "code",
   "execution_count": 58,
   "metadata": {},
   "outputs": [],
   "source": [
    "#__SOLUTION__\n",
    "trips_area_31.append(new_trip)"
   ]
  },
  {
   "cell_type": "markdown",
   "metadata": {},
   "source": [
    "`trips_area_31` should now have 31 rides in it."
   ]
  },
  {
   "cell_type": "markdown",
   "metadata": {},
   "source": [
    "# Basic Dictionary Manipulation"
   ]
  },
  {
   "cell_type": "markdown",
   "metadata": {},
   "source": [
    "Below is a dictionary which contains data related to a second new trip."
   ]
  },
  {
   "cell_type": "code",
   "execution_count": 30,
   "metadata": {},
   "outputs": [],
   "source": [
    "new_trip_2 = {'trip_id':'7129z00gf-2z10-4833-oof1-ca7b3a1pe212' , \n",
    "                'trip_distance':'4,400', \n",
    "                'trip_duration':'2,000', \n",
    "                'start_community_area_number':'31', \n",
    "                'end_community_area_number':'21'}\n"
   ]
  },
  {
   "cell_type": "markdown",
   "metadata": {},
   "source": [
    "Notice that the trip distance and trip duration are represented by strings with commas in them.  Such a format can result in errors during data procesing."
   ]
  },
  {
   "cell_type": "markdown",
   "metadata": {},
   "source": [
    "## Task 5"
   ]
  },
  {
   "cell_type": "markdown",
   "metadata": {},
   "source": [
    "Add new_trip_2 to the `trip_areas_31` list, but before doing so, reassign the value of trip distance and trip duration to values without commas: i.e. 4400 and 2000.   \n",
    "The final types should still be strings.\n",
    "You do not have to do fancy string manipulation, but you do have to assign values using **key/value** pairs.  \n",
    "Do not just fix the strings in the code block above. \n",
    "\n"
   ]
  },
  {
   "cell_type": "code",
   "execution_count": 31,
   "metadata": {},
   "outputs": [],
   "source": [
    "# Your code here for fixing distance and duration"
   ]
  },
  {
   "cell_type": "code",
   "execution_count": 32,
   "metadata": {},
   "outputs": [],
   "source": [
    "# Your code here for adding new_trip_2 to the trips_area_31 list."
   ]
  },
  {
   "cell_type": "code",
   "execution_count": 60,
   "metadata": {},
   "outputs": [],
   "source": [
    "#__SOLUTION__\n",
    "new_trip_2['trip_distance'] = '4400'\n",
    "new_trip_2['trip_duration'] = '2000'"
   ]
  },
  {
   "cell_type": "code",
   "execution_count": 61,
   "metadata": {},
   "outputs": [],
   "source": [
    "#__SOLUTION__\n",
    "trips_area_31.append(new_trip_2)"
   ]
  },
  {
   "cell_type": "markdown",
   "metadata": {},
   "source": [
    "# For-Loops and if/else statements"
   ]
  },
  {
   "cell_type": "markdown",
   "metadata": {},
   "source": [
    "The `trip_distance` variable below is **list** of all of the rides' trip distances in their original unit (meters) and type (string).  \n"
   ]
  },
  {
   "cell_type": "code",
   "execution_count": 66,
   "metadata": {},
   "outputs": [],
   "source": [
    "trip_distances = load_trip_distance()"
   ]
  },
  {
   "cell_type": "markdown",
   "metadata": {},
   "source": [
    "The distances correspond to the same data in the list of dictionaries above, but the trip distances have been isolated from the other data."
   ]
  },
  {
   "cell_type": "markdown",
   "metadata": {},
   "source": [
    "## Task 6"
   ]
  },
  {
   "cell_type": "markdown",
   "metadata": {},
   "source": [
    "Using a **for-loop** and **if/else** statements, create a new list called `short_rides` which holds all rides less than or equal to 1 mile.   \n",
    "To do so, you will once again have to convert to miles by dividing by 1609."
   ]
  },
  {
   "cell_type": "code",
   "execution_count": 68,
   "metadata": {},
   "outputs": [],
   "source": [
    "# Your code here\n",
    "short_rides = None"
   ]
  },
  {
   "cell_type": "code",
   "execution_count": 69,
   "metadata": {},
   "outputs": [
    {
     "data": {
      "text/plain": [
       "[1.0,\n",
       " 0.4934742075823493,\n",
       " 0.5699192044748291,\n",
       " 0.8999378495960224,\n",
       " 0.5823492852703542]"
      ]
     },
     "execution_count": 69,
     "metadata": {},
     "output_type": "execute_result"
    }
   ],
   "source": [
    "#__SOLUTION__\n",
    "short_rides = []\n",
    "\n",
    "for trip in trip_distances:\n",
    "    \n",
    "    trip_in_miles = int(trip)/1609\n",
    "    \n",
    "    if trip_in_miles <= 1:\n",
    "        short_rides.append(trip_in_miles)\n",
    "        \n",
    "short_rides[:5]"
   ]
  },
  {
   "cell_type": "markdown",
   "metadata": {},
   "source": [
    "## Task 7"
   ]
  },
  {
   "cell_type": "markdown",
   "metadata": {},
   "source": [
    "What percentage of the total rides are less than or equal to 1 mile?"
   ]
  },
  {
   "cell_type": "code",
   "execution_count": 70,
   "metadata": {},
   "outputs": [],
   "source": [
    "# Your code here"
   ]
  },
  {
   "cell_type": "code",
   "execution_count": 61,
   "metadata": {},
   "outputs": [
    {
     "data": {
      "text/plain": [
       "52.70413573700954"
      ]
     },
     "execution_count": 61,
     "metadata": {},
     "output_type": "execute_result"
    }
   ],
   "source": [
    "#__SOLUTION__\n",
    "len(short_rides)/len(trip_distances) * 100"
   ]
  },
  {
   "cell_type": "markdown",
   "metadata": {},
   "source": [
    "# Processing Two Lists at Once"
   ]
  },
  {
   "cell_type": "markdown",
   "metadata": {},
   "source": [
    "The variable `start_community_areas` holds a list of community area numbers where each trip started.   "
   ]
  },
  {
   "cell_type": "code",
   "execution_count": 71,
   "metadata": {},
   "outputs": [],
   "source": [
    "start_community_areas = load_start_community_area()"
   ]
  },
  {
   "cell_type": "markdown",
   "metadata": {},
   "source": [
    "The `start_community_areas` list and the `trip_distance` list are the same length, and are both ordered in the same way.  \n",
    "In other words, the 1st element of `start_community_areas` and the 1st element of `trip_distance` refer to the same trip.  "
   ]
  },
  {
   "cell_type": "code",
   "execution_count": 72,
   "metadata": {},
   "outputs": [
    {
     "data": {
      "text/plain": [
       "True"
      ]
     },
     "execution_count": 72,
     "metadata": {},
     "output_type": "execute_result"
    }
   ],
   "source": [
    "len(start_community_areas) == len(trip_distances)"
   ]
  },
  {
   "cell_type": "markdown",
   "metadata": {},
   "source": [
    "The built in [zip](https://docs.python.org/3/library/functions.html#zip) function allows you to iterate through multiple iterables at the same time.  \n",
    "Each trip through the for-loop processes elements with matching indices from the iterables passed as arguments."
   ]
  },
  {
   "cell_type": "markdown",
   "metadata": {},
   "source": [
    "## Task 8"
   ]
  },
  {
   "cell_type": "markdown",
   "metadata": {},
   "source": [
    "Using a **for-loop** and the **zip** function, create a list called `short_rides_22` which stores all trip_distances (in miles) less than or equal to 1 mile which originated in community area 22."
   ]
  },
  {
   "cell_type": "code",
   "execution_count": 76,
   "metadata": {},
   "outputs": [],
   "source": [
    "# Your code here\n",
    "\n",
    "short_rides_22 = None"
   ]
  },
  {
   "cell_type": "code",
   "execution_count": 77,
   "metadata": {},
   "outputs": [
    {
     "data": {
      "text/plain": [
       "[0.9297700435052828,\n",
       " 0.9527656929770043,\n",
       " 0.23927905531385954,\n",
       " 0.45245494095711625,\n",
       " 0.5835922933499068]"
      ]
     },
     "execution_count": 77,
     "metadata": {},
     "output_type": "execute_result"
    }
   ],
   "source": [
    "#__SOLUTION__\n",
    "\n",
    "short_rides_22 = []\n",
    "\n",
    "for distance, comm_num in zip(trip_distances, start_community_areas):\n",
    "    \n",
    "    dist_in_miles = int(distance)/1609\n",
    "    \n",
    "    if dist_in_miles <= 1 and comm_num == '22':\n",
    "        short_rides_22.append(dist_in_miles)\n",
    "        \n",
    "short_rides_22[:5]"
   ]
  },
  {
   "cell_type": "markdown",
   "metadata": {},
   "source": [
    "## Task 9"
   ]
  },
  {
   "cell_type": "markdown",
   "metadata": {},
   "source": [
    "Next, create a similar for loop, but this time create two lists simultaneously:\n",
    " -  the list `short_rides_24` stores all trip_distances (in miles) less than or equal to 1 mile which originated in community area 24.\n",
    " -  the list `short_rides_28` stores all trip_distances (in miles) less than or equal to 1 mile which originated in community area 28.\n",
    "\n"
   ]
  },
  {
   "cell_type": "code",
   "execution_count": null,
   "metadata": {},
   "outputs": [],
   "source": [
    "short_rides_24 = None\n",
    "short_rides_28 = None"
   ]
  },
  {
   "cell_type": "code",
   "execution_count": 58,
   "metadata": {},
   "outputs": [
    {
     "name": "stdout",
     "output_type": "stream",
     "text": [
      "[0.07955251709136109, 0.814791796146675, 0.0, 0.7501553760099441, 0.7806090739589807]\n",
      "[0.6668738346799254, 0.8458669981354879, 0.6830329397141082, 0.0, 0.6395276569297701]\n"
     ]
    }
   ],
   "source": [
    "#__SOLUTION__\n",
    "\n",
    "short_rides_24 = []\n",
    "short_rides_28 = []\n",
    "\n",
    "for distance, comm_num in zip(trip_distances, start_community_areas):\n",
    "    dist_in_miles = int(distance)/1609\n",
    "    \n",
    "    if dist_in_miles <= 1 and comm_num == '24':\n",
    "        short_rides_24.append(dist_in_miles)\n",
    "    \n",
    "    elif dist_in_miles <= 1 and comm_num == '28':\n",
    "        short_rides_28.append(dist_in_miles)\n",
    "        \n",
    "    else:\n",
    "        pass\n",
    "print(short_rides_24[:5])\n",
    "print(short_rides_28[:5])"
   ]
  },
  {
   "cell_type": "markdown",
   "metadata": {},
   "source": [
    "# Nested Dictionaries"
   ]
  },
  {
   "cell_type": "markdown",
   "metadata": {},
   "source": [
    "You are now presented with the rides data in a slightly different form. Instead of a list of rides, it is a dictionary.\n",
    "\n",
    "Each element in the `trips_dictionary` variable below uses the trip_id as a dictionary key, and stores the trip data associated with each key as a second dictionary.\n",
    "\n",
    "This nested, second dictionary has keys representing all the data you have come to know: trip_distance, trip_duration, start_community_area_number, and end_community_area_number."
   ]
  },
  {
   "cell_type": "code",
   "execution_count": 83,
   "metadata": {},
   "outputs": [
    {
     "name": "stdout",
     "output_type": "stream",
     "text": [
      "{'trip_distance': '3793', 'trip_duration': '1152', 'start_community_area_number': '15', 'end_community_area_number': '15'}\n"
     ]
    }
   ],
   "source": [
    "trips_dictionary = load_trip_dictionary()\n",
    "\n",
    "# The trip_id of the 1st ride is used as a key below to output the 1st trip's data\n",
    "print(trips_dictionary['33b50938-5626-4124-ba57-cc0a3dd058aa'])"
   ]
  },
  {
   "cell_type": "markdown",
   "metadata": {},
   "source": [
    "## Task 10"
   ]
  },
  {
   "cell_type": "markdown",
   "metadata": {},
   "source": [
    "Now, loop through this new dictionary and find all rides **over 20 minutes**. \n",
    "\n",
    "Store these rides in a dictionary called `long_rides` with trip_id's as keys and ride time in minutes as the value.\n",
    "\n",
    "Again, you will have to convert the ride durations to integers, as well as convert seconds to minutes."
   ]
  },
  {
   "cell_type": "code",
   "execution_count": 85,
   "metadata": {},
   "outputs": [],
   "source": [
    "# Your code here\n",
    "# The keys of long_rides will be trip_ids, and the values will be trip_duration in minutes\n",
    "long_rides = {}"
   ]
  },
  {
   "cell_type": "code",
   "execution_count": 87,
   "metadata": {},
   "outputs": [],
   "source": [
    "#__SOLUTION__\n",
    "long_rides = {}\n",
    "for ride in trips_dictionary:\n",
    "\n",
    "    ride_in_minutes = int(trips_dictionary[ride]['trip_duration'])/60\n",
    "    \n",
    "    if ride_in_minutes > 20:\n",
    "        long_rides[ride] = ride_in_minutes\n"
   ]
  },
  {
   "cell_type": "markdown",
   "metadata": {},
   "source": [
    "# Functions "
   ]
  },
  {
   "cell_type": "markdown",
   "metadata": {},
   "source": [
    "## Task 11"
   ]
  },
  {
   "cell_type": "markdown",
   "metadata": {},
   "source": [
    "Next, create a function called `start_area_durations`, which takes two parameters:\n",
    "\n",
    "    `start_area`: a string representing the community number of a trip's start community area number.\n",
    "\n",
    "and either:\n",
    "\n",
    "    `data`: the full **list** of rides imported above.\n",
    "    or\n",
    "    `trips_dictionary`: the dictionary of rides which uses ride_id as keys.\n",
    "    \n",
    "The function should loop through the rides and select only those which start in the community area fed to it as an argument.\n",
    "\n",
    "It should **return** a list of rides, each of which is the full dictionary describing the data of the ride.\n",
    "\n",
    "> **Note** Whether you use the data variable or the trips_dictionary variable, you should get almost identical output.  \n",
    "However, using the trips_dictionary may return a list of rides which do not have ride ids.  That is acceptible. Everything else will be the same.\n"
   ]
  },
  {
   "cell_type": "code",
   "execution_count": 108,
   "metadata": {},
   "outputs": [],
   "source": [
    "# Your code here\n",
    "\n",
    "def start_area_durations(start_area, data):\n",
    "    pass"
   ]
  },
  {
   "cell_type": "code",
   "execution_count": 109,
   "metadata": {},
   "outputs": [],
   "source": [
    "#__SOLUTION__\n",
    "def start_area_durations(start_area, data):\n",
    "    '''\n",
    "    Return all rides in a given start area.\n",
    "    \n",
    "    Params\n",
    "    data: a list of rides, each of which is a dictionary of data.\n",
    "    start_area: a string representing a community start area\n",
    "    ----\n",
    "    returns\n",
    "    community_area_rides: a list of all rides in a given community area\n",
    "    '''\n",
    "    community_area_rides = []\n",
    "    for ride in data:\n",
    "        if ride['start_community_area_number'] == start_area:\n",
    "            community_area_rides.append(ride)\n",
    "    \n",
    "    return community_area_rides"
   ]
  },
  {
   "cell_type": "code",
   "execution_count": 110,
   "metadata": {},
   "outputs": [],
   "source": [
    "#__SOLUTION__\n",
    "\n",
    "\n",
    "def start_area_durations_with_dict(start_area, trips_dictionary):\n",
    "    '''\n",
    "    Return all rides in a given start area.\n",
    "    \n",
    "    Params\n",
    "    trips_dictionary: a dictionary of rides which uses ride_id as the key\n",
    "    start_area: a string representing a community start area\n",
    "    ----\n",
    "    returns\n",
    "    community_area_rides: a list of all rides in a given community area without ride_ids.\n",
    "    '''\n",
    "    community_area_rides = []\n",
    "    for ride in trips_dictionary:\n",
    "        if trips_dictionary[ride]['start_community_area_number'] == start_area:\n",
    "            community_area_rides.append(trips_dictionary[ride])\n",
    "    \n",
    "    return community_area_rides"
   ]
  },
  {
   "cell_type": "code",
   "execution_count": 100,
   "metadata": {
    "collapsed": true,
    "jupyter": {
     "outputs_hidden": true
    }
   },
   "outputs": [
    {
     "data": {
      "text/plain": [
       "[{'trip_distance': '2317',\n",
       "  'trip_duration': '806',\n",
       "  'start_community_area_number': '25',\n",
       "  'end_community_area_number': '19'},\n",
       " {'trip_distance': '1704',\n",
       "  'trip_duration': '2039',\n",
       "  'start_community_area_number': '25',\n",
       "  'end_community_area_number': '25'},\n",
       " {'trip_distance': '0',\n",
       "  'trip_duration': '7',\n",
       "  'start_community_area_number': '25',\n",
       "  'end_community_area_number': '25'},\n",
       " {'trip_distance': '0',\n",
       "  'trip_duration': '7',\n",
       "  'start_community_area_number': '25',\n",
       "  'end_community_area_number': '25'},\n",
       " {'trip_distance': '1647',\n",
       "  'trip_duration': '2362',\n",
       "  'start_community_area_number': '25',\n",
       "  'end_community_area_number': '25'},\n",
       " {'trip_distance': '6601',\n",
       "  'trip_duration': '2768',\n",
       "  'start_community_area_number': '25',\n",
       "  'end_community_area_number': '25'},\n",
       " {'trip_distance': '3677',\n",
       "  'trip_duration': '2604',\n",
       "  'start_community_area_number': '25',\n",
       "  'end_community_area_number': '25'},\n",
       " {'trip_distance': '6803',\n",
       "  'trip_duration': '2189',\n",
       "  'start_community_area_number': '25',\n",
       "  'end_community_area_number': '25'},\n",
       " {'trip_distance': '11539',\n",
       "  'trip_duration': '8367',\n",
       "  'start_community_area_number': '25',\n",
       "  'end_community_area_number': '25'},\n",
       " {'trip_distance': '4000',\n",
       "  'trip_duration': '1402',\n",
       "  'start_community_area_number': '25',\n",
       "  'end_community_area_number': '25'},\n",
       " {'trip_distance': '5720',\n",
       "  'trip_duration': '2411',\n",
       "  'start_community_area_number': '25',\n",
       "  'end_community_area_number': '29'},\n",
       " {'trip_distance': '5221',\n",
       "  'trip_duration': '1349',\n",
       "  'start_community_area_number': '25',\n",
       "  'end_community_area_number': '19'},\n",
       " {'trip_distance': '451',\n",
       "  'trip_duration': '146',\n",
       "  'start_community_area_number': '25',\n",
       "  'end_community_area_number': '25'},\n",
       " {'trip_distance': '1284',\n",
       "  'trip_duration': '903',\n",
       "  'start_community_area_number': '25',\n",
       "  'end_community_area_number': '25'},\n",
       " {'trip_distance': '1477',\n",
       "  'trip_duration': '667',\n",
       "  'start_community_area_number': '25',\n",
       "  'end_community_area_number': '25'},\n",
       " {'trip_distance': '2421',\n",
       "  'trip_duration': '577',\n",
       "  'start_community_area_number': '25',\n",
       "  'end_community_area_number': '25'},\n",
       " {'trip_distance': '1249',\n",
       "  'trip_duration': '539',\n",
       "  'start_community_area_number': '25',\n",
       "  'end_community_area_number': '25'},\n",
       " {'trip_distance': '2212',\n",
       "  'trip_duration': '906',\n",
       "  'start_community_area_number': '25',\n",
       "  'end_community_area_number': '25'},\n",
       " {'trip_distance': '1055',\n",
       "  'trip_duration': '281',\n",
       "  'start_community_area_number': '25',\n",
       "  'end_community_area_number': '25'},\n",
       " {'trip_distance': '6626',\n",
       "  'trip_duration': '6657',\n",
       "  'start_community_area_number': '25',\n",
       "  'end_community_area_number': '25'},\n",
       " {'trip_distance': '8966',\n",
       "  'trip_duration': '7784',\n",
       "  'start_community_area_number': '25',\n",
       "  'end_community_area_number': '25'}]"
      ]
     },
     "execution_count": 100,
     "metadata": {},
     "output_type": "execute_result"
    }
   ],
   "source": [
    "\n",
    "start_area_durations_with_dict('25', trips_dictionary)"
   ]
  },
  {
   "cell_type": "code",
   "execution_count": 101,
   "metadata": {
    "collapsed": true,
    "jupyter": {
     "outputs_hidden": true
    }
   },
   "outputs": [
    {
     "data": {
      "text/plain": [
       "[{'trip_id': '8bbe5aea-42c6-5734-80b0-9d9c97db39e7',\n",
       "  'trip_distance': '2317',\n",
       "  'trip_duration': '806',\n",
       "  'start_community_area_number': '25',\n",
       "  'end_community_area_number': '19'},\n",
       " {'trip_id': '6e951d9a-523c-490f-bdf0-9e82f6c746d4',\n",
       "  'trip_distance': '1704',\n",
       "  'trip_duration': '2039',\n",
       "  'start_community_area_number': '25',\n",
       "  'end_community_area_number': '25'},\n",
       " {'trip_id': '4ebe5caf-0663-4c9a-b3bd-ae830abc24fa',\n",
       "  'trip_distance': '0',\n",
       "  'trip_duration': '7',\n",
       "  'start_community_area_number': '25',\n",
       "  'end_community_area_number': '25'},\n",
       " {'trip_id': '2ee54dc7-c08c-4b9e-b99d-c459290abbb9',\n",
       "  'trip_distance': '0',\n",
       "  'trip_duration': '7',\n",
       "  'start_community_area_number': '25',\n",
       "  'end_community_area_number': '25'},\n",
       " {'trip_id': '0b398fd4-d0ec-4536-b51f-e24cfdba1f97',\n",
       "  'trip_distance': '1647',\n",
       "  'trip_duration': '2362',\n",
       "  'start_community_area_number': '25',\n",
       "  'end_community_area_number': '25'},\n",
       " {'trip_id': '3b008a89-52a5-4984-b9ed-3565dfbb4abb',\n",
       "  'trip_distance': '6601',\n",
       "  'trip_duration': '2768',\n",
       "  'start_community_area_number': '25',\n",
       "  'end_community_area_number': '25'},\n",
       " {'trip_id': '198b4a86-2e88-450a-b387-4a76ee42e787',\n",
       "  'trip_distance': '3677',\n",
       "  'trip_duration': '2604',\n",
       "  'start_community_area_number': '25',\n",
       "  'end_community_area_number': '25'},\n",
       " {'trip_id': '8c3f418b-4f4c-4d05-b3a2-4159afe71e20',\n",
       "  'trip_distance': '6803',\n",
       "  'trip_duration': '2189',\n",
       "  'start_community_area_number': '25',\n",
       "  'end_community_area_number': '25'},\n",
       " {'trip_id': '11c7c441-ef74-4944-11c7-c441ef744944',\n",
       "  'trip_distance': '11539',\n",
       "  'trip_duration': '8367',\n",
       "  'start_community_area_number': '25',\n",
       "  'end_community_area_number': '25'},\n",
       " {'trip_id': '1fc09511-0552-4143-b62b-3359e71e485c',\n",
       "  'trip_distance': '4000',\n",
       "  'trip_duration': '1402',\n",
       "  'start_community_area_number': '25',\n",
       "  'end_community_area_number': '25'},\n",
       " {'trip_id': '2ad94a4e-e487-4d96-b19c-0f0e8b205b80',\n",
       "  'trip_distance': '5720',\n",
       "  'trip_duration': '2411',\n",
       "  'start_community_area_number': '25',\n",
       "  'end_community_area_number': '29'},\n",
       " {'trip_id': '3b598026-c15a-41a4-bd8c-b1de9e275b19',\n",
       "  'trip_distance': '5221',\n",
       "  'trip_duration': '1349',\n",
       "  'start_community_area_number': '25',\n",
       "  'end_community_area_number': '19'},\n",
       " {'trip_id': '799a7e01-6732-4b06-b862-4b943f2db45f',\n",
       "  'trip_distance': '451',\n",
       "  'trip_duration': '146',\n",
       "  'start_community_area_number': '25',\n",
       "  'end_community_area_number': '25'},\n",
       " {'trip_id': '879c8b76-c778-424c-b2cd-61a6a338ab61',\n",
       "  'trip_distance': '1284',\n",
       "  'trip_duration': '903',\n",
       "  'start_community_area_number': '25',\n",
       "  'end_community_area_number': '25'},\n",
       " {'trip_id': '6c7afdcf-28f1-4dde-ba0d-b85c6eb4451c',\n",
       "  'trip_distance': '1477',\n",
       "  'trip_duration': '667',\n",
       "  'start_community_area_number': '25',\n",
       "  'end_community_area_number': '25'},\n",
       " {'trip_id': '63f95a46-3b5a-498e-bb50-28e0844089e7',\n",
       "  'trip_distance': '2421',\n",
       "  'trip_duration': '577',\n",
       "  'start_community_area_number': '25',\n",
       "  'end_community_area_number': '25'},\n",
       " {'trip_id': '179e4670-0c51-4333-b99e-9d28b6dd6297',\n",
       "  'trip_distance': '1249',\n",
       "  'trip_duration': '539',\n",
       "  'start_community_area_number': '25',\n",
       "  'end_community_area_number': '25'},\n",
       " {'trip_id': '4ce890d4-0df3-40d1-bce5-d91acc55daff',\n",
       "  'trip_distance': '2212',\n",
       "  'trip_duration': '906',\n",
       "  'start_community_area_number': '25',\n",
       "  'end_community_area_number': '25'},\n",
       " {'trip_id': '0bf87fbd-c799-4381-b839-583d1a6c2566',\n",
       "  'trip_distance': '1055',\n",
       "  'trip_duration': '281',\n",
       "  'start_community_area_number': '25',\n",
       "  'end_community_area_number': '25'},\n",
       " {'trip_id': '88e09622-2366-48a6-b2be-cd0fa006a868',\n",
       "  'trip_distance': '6626',\n",
       "  'trip_duration': '6657',\n",
       "  'start_community_area_number': '25',\n",
       "  'end_community_area_number': '25'},\n",
       " {'trip_id': '4b2c012e-2497-4ed5-b784-f62f592ff6f8',\n",
       "  'trip_distance': '8966',\n",
       "  'trip_duration': '7784',\n",
       "  'start_community_area_number': '25',\n",
       "  'end_community_area_number': '25'}]"
      ]
     },
     "execution_count": 101,
     "metadata": {},
     "output_type": "execute_result"
    }
   ],
   "source": [
    "start_area_durations('25', data)"
   ]
  },
  {
   "cell_type": "markdown",
   "metadata": {},
   "source": [
    "## Task 12"
   ]
  },
  {
   "cell_type": "markdown",
   "metadata": {},
   "source": [
    "Finally, build a second function `start_area_longest_ride` which **returns the distance in miles** of the longest ride for a given start area community number.  \n",
    "Ideally, this function will act on  the output of the function coded above.\n",
    "\n",
    "Whether you used the data list or trips_dictionary, the output should be the same."
   ]
  },
  {
   "cell_type": "code",
   "execution_count": 113,
   "metadata": {},
   "outputs": [],
   "source": [
    "# Your code here"
   ]
  },
  {
   "cell_type": "code",
   "execution_count": 116,
   "metadata": {},
   "outputs": [
    {
     "data": {
      "text/plain": [
       "7.171535114978247"
      ]
     },
     "execution_count": 116,
     "metadata": {},
     "output_type": "execute_result"
    }
   ],
   "source": [
    "start_area_longest_ride(start_area_durations('25', data))"
   ]
  },
  {
   "cell_type": "code",
   "execution_count": 117,
   "metadata": {},
   "outputs": [
    {
     "data": {
      "text/plain": [
       "7.171535114978247"
      ]
     },
     "execution_count": 117,
     "metadata": {},
     "output_type": "execute_result"
    }
   ],
   "source": [
    "start_area_longest_ride(start_area_durations_with_dict('25', trips_dictionary))"
   ]
  },
  {
   "cell_type": "code",
   "execution_count": null,
   "metadata": {},
   "outputs": [],
   "source": []
  }
 ],
 "metadata": {
  "kernelspec": {
   "display_name": "learn-env",
   "language": "python",
   "name": "learn-env"
  },
  "language_info": {
   "codemirror_mode": {
    "name": "ipython",
    "version": 3
   },
   "file_extension": ".py",
   "mimetype": "text/x-python",
   "name": "python",
   "nbconvert_exporter": "python",
   "pygments_lexer": "ipython3",
   "version": "3.8.5"
  }
 },
 "nbformat": 4,
 "nbformat_minor": 4
}
