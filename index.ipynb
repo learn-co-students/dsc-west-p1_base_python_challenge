{
 "cells": [
  {
   "cell_type": "markdown",
   "metadata": {
    "nbgrader": {
     "grade": false,
     "grade_id": "a91e7daf858eb24494174ce6f3b71cb3",
     "locked": true,
     "schema_version": 3,
     "solution": false,
     "task": false
    }
   },
   "source": [
    "# Base Python Week 1 Code Exercise"
   ]
  },
  {
   "cell_type": "markdown",
   "metadata": {
    "nbgrader": {
     "grade": false,
     "grade_id": "e5aea312d330a127287fc35b48dfdc72",
     "locked": true,
     "schema_version": 3,
     "solution": false,
     "task": false
    }
   },
   "source": [
    "The present code challenge will test your skills in base Python.    \n",
    "You will be asked to show your knowledge of:\n",
    " \n",
    " - basic Python types - strings, floats/integers, lists, and dictionaries.\n",
    " - for-loops and if/else statements\n",
    " - functions\n",
    " "
   ]
  },
  {
   "cell_type": "markdown",
   "metadata": {
    "nbgrader": {
     "grade": false,
     "grade_id": "9db0c63580b2f016f9bcc89117f7ce1b",
     "locked": true,
     "schema_version": 3,
     "solution": false,
     "task": false
    }
   },
   "source": [
    "You are presented with a data set describing scooter rides.  Chicago rolled out a pilot program for rentable scooters in 2019.\n",
    "\n",
    "<a href='https://data.cityofchicago.org/Transportation/E-Scooter-Trips-2019-Pilot/2kfw-zvte'> <img src='./img/scooter_pilot.png'  height='500' width='500'></a>"
   ]
  },
  {
   "cell_type": "code",
   "execution_count": 119,
   "metadata": {
    "nbgrader": {
     "grade": false,
     "grade_id": "9976ba69a0e68f228b36879e6eb1e865",
     "locked": true,
     "schema_version": 3,
     "solution": false,
     "task": false
    }
   },
   "outputs": [
    {
     "name": "stdout",
     "output_type": "stream",
     "text": [
      "The autoreload extension is already loaded. To reload it, use:\n",
      "  %reload_ext autoreload\n"
     ]
    }
   ],
   "source": [
    "# Run cell with no changes\n",
    "\n",
    "import sys\n",
    "\n",
    "sys.path.append('src')\n",
    "\n",
    "%load_ext autoreload\n",
    "%autoreload 2\n",
    "\n",
    "from data_import import load_scooter, load_start_end_numbers, load_start_time_and_distance, load_trip_distance, load_start_community_area, load_trip_dictionary\n",
    "\n",
    "from test_scripts.test_class import Test\n"
   ]
  },
  {
   "cell_type": "markdown",
   "metadata": {
    "nbgrader": {
     "grade": false,
     "grade_id": "045892bcd1ea975d5fa99da6df316987",
     "locked": true,
     "schema_version": 3,
     "solution": false,
     "task": false
    }
   },
   "source": [
    "# Task 1: Strings\n",
    "\n",
    "The data set defines where each trip starts, and where each trip ends by`'start_community_area_number'` and `'end_community_area_number'`.  \n",
    "\n",
    "In the cell below, you are presented with two variables containing start and end community area information for the first trip: `trip1_scan` and `trip1_ecan` respectively."
   ]
  },
  {
   "cell_type": "code",
   "execution_count": 120,
   "metadata": {
    "nbgrader": {
     "grade": false,
     "grade_id": "cell-a6c226e8ac764c9a",
     "locked": true,
     "schema_version": 3,
     "solution": false,
     "task": false
    }
   },
   "outputs": [],
   "source": [
    "trip1_scan, trip1_ecan = load_start_end_numbers()\n"
   ]
  },
  {
   "cell_type": "code",
   "execution_count": 121,
   "metadata": {
    "nbgrader": {
     "grade": false,
     "grade_id": "cell-d5e43dae963c8956",
     "locked": true,
     "schema_version": 3,
     "solution": false,
     "task": false
    }
   },
   "outputs": [
    {
     "name": "stdout",
     "output_type": "stream",
     "text": [
      "15\n"
     ]
    }
   ],
   "source": [
    "print(trip1_scan)"
   ]
  },
  {
   "cell_type": "code",
   "execution_count": 122,
   "metadata": {
    "nbgrader": {
     "grade": false,
     "grade_id": "cell-43c83d4ce9f317c9",
     "locked": true,
     "schema_version": 3,
     "solution": false,
     "task": false
    }
   },
   "outputs": [
    {
     "name": "stdout",
     "output_type": "stream",
     "text": [
      "15\n"
     ]
    }
   ],
   "source": [
    "print(trip1_scan)"
   ]
  },
  {
   "cell_type": "markdown",
   "metadata": {
    "nbgrader": {
     "grade": false,
     "grade_id": "0d95c58b9db81ae9ca661496dc163865",
     "locked": true,
     "schema_version": 3,
     "solution": false,
     "task": false
    }
   },
   "source": [
    "As you can see from the cell output above, the 1st trip started and ended in Community Area 15. Community Area 15 is named Portage Park."
   ]
  },
  {
   "cell_type": "code",
   "execution_count": 123,
   "metadata": {
    "nbgrader": {
     "grade": false,
     "grade_id": "cell-82fa9b1c68b0d555",
     "locked": true,
     "schema_version": 3,
     "solution": false,
     "task": false
    }
   },
   "outputs": [],
   "source": [
    "community_area_15_name = 'Portage Park'"
   ]
  },
  {
   "cell_type": "markdown",
   "metadata": {
    "nbgrader": {
     "grade": false,
     "grade_id": "0df6c1a3c1b5556bbdcdbc17bab6b06f",
     "locked": true,
     "schema_version": 3,
     "solution": false,
     "task": false
    }
   },
   "source": [
    "Just like numbers, strings can be joined using the `+` operator.\n",
    "\n",
    "\n",
    "With the variables defined above - `trip1_scan`, `community_area_15_name`- and the additional variables below, construct the following sentence:\n",
    "   > \"Trip 1 started in Community Area 15: Portage Park.\"\n",
    "\n",
    "Combine the strings using the `+` operator."
   ]
  },
  {
   "cell_type": "code",
   "execution_count": 124,
   "metadata": {
    "nbgrader": {
     "grade": false,
     "grade_id": "cell-761de5d3871b008d",
     "locked": true,
     "schema_version": 3,
     "solution": false,
     "task": false
    }
   },
   "outputs": [],
   "source": [
    "sentence_beginning = 'Trip 1 started in Community Area '\n",
    "colon_and_space = ': '\n",
    "sentence_end_punctuation = '.'"
   ]
  },
  {
   "cell_type": "code",
   "execution_count": 125,
   "metadata": {
    "nbgrader": {
     "grade": false,
     "grade_id": "cell-2c88ac28a282c690",
     "locked": false,
     "schema_version": 3,
     "solution": true,
     "task": false
    }
   },
   "outputs": [
    {
     "name": "stdout",
     "output_type": "stream",
     "text": [
      "Trip 1 started in Community Area 15: Portage Park.\n"
     ]
    }
   ],
   "source": [
    "# Replace None with the appropriate code\n",
    "answer_sentence = None\n",
    "\n",
    "### BEGIN SOLUTION\n",
    "answer_sentence = sentence_beginning + trip1_scan + colon_and_space + community_area_15_name + sentence_end_punctuation\n",
    "### END SOLUTION\n",
    "print(answer_sentence)"
   ]
  },
  {
   "cell_type": "code",
   "execution_count": 126,
   "metadata": {
    "nbgrader": {
     "grade": true,
     "grade_id": "27170789b8269e734a54afb2f143ffc2",
     "locked": true,
     "points": 1,
     "schema_version": 3,
     "solution": false,
     "task": false
    }
   },
   "outputs": [],
   "source": [
    "### BEGIN HIDDEN TESTS\n",
    "\n",
    "assert answer_sentence == 'Trip 1 started in Community Area 15: Portage Park.'\n",
    "\n",
    "\n",
    "### END HIDDEN TESTS"
   ]
  },
  {
   "cell_type": "markdown",
   "metadata": {
    "nbgrader": {
     "grade": false,
     "grade_id": "33f7cdf9e4122f73d5f761a459ac554c",
     "locked": true,
     "schema_version": 3,
     "solution": false,
     "task": false
    }
   },
   "source": [
    "\n",
    "\n",
    "## Task 2: Integers and Floats\n",
    "Two string variables are defined below named `trip1_dist` and `trip1_time`. "
   ]
  },
  {
   "cell_type": "code",
   "execution_count": 127,
   "metadata": {
    "nbgrader": {
     "grade": false,
     "grade_id": "cell-bcdf9fe4dabf1ea5",
     "locked": true,
     "schema_version": 3,
     "solution": false,
     "task": false
    }
   },
   "outputs": [],
   "source": [
    "trip1_dist, trip1_time = load_start_time_and_distance()"
   ]
  },
  {
   "cell_type": "code",
   "execution_count": 128,
   "metadata": {
    "nbgrader": {
     "grade": false,
     "grade_id": "cell-3d03e45c71db29fe",
     "locked": true,
     "schema_version": 3,
     "solution": false,
     "task": false
    }
   },
   "outputs": [
    {
     "name": "stdout",
     "output_type": "stream",
     "text": [
      "Trip 1 covered 3793 meters.\n"
     ]
    }
   ],
   "source": [
    "# The units of distance is meters.\n",
    "print(f\"Trip 1 covered {trip1_dist} meters.\")"
   ]
  },
  {
   "cell_type": "code",
   "execution_count": 129,
   "metadata": {
    "nbgrader": {
     "grade": false,
     "grade_id": "cell-503c8c7407bc7a51",
     "locked": true,
     "schema_version": 3,
     "solution": false,
     "task": false
    }
   },
   "outputs": [
    {
     "name": "stdout",
     "output_type": "stream",
     "text": [
      "Trip 1 took 1152 seconds\n"
     ]
    }
   ],
   "source": [
    "# Time is measured in seconds\n",
    "print(f\"Trip 1 took {trip1_time} seconds\")"
   ]
  },
  {
   "cell_type": "markdown",
   "metadata": {
    "nbgrader": {
     "grade": false,
     "grade_id": "6f3f66a7428399cdc750ed3ccc59ed7b",
     "locked": true,
     "schema_version": 3,
     "solution": false,
     "task": false
    }
   },
   "source": [
    "**Task 2a**: \n",
    " > convert both of these strings to integers using a `built in method`."
   ]
  },
  {
   "cell_type": "code",
   "execution_count": 130,
   "metadata": {
    "nbgrader": {
     "grade": false,
     "grade_id": "d1b390b1a76d2e49f3df901cf6ea4648",
     "locked": false,
     "schema_version": 3,
     "solution": true,
     "task": false
    }
   },
   "outputs": [],
   "source": [
    "# Replace None with the appropriate code\n",
    "trip_dist_int = None\n",
    "trip_time_int = None\n",
    "\n",
    "### BEGIN SOLUTION\n",
    "\n",
    "trip1_dist_int = int(trip1_dist)\n",
    "trip1_time_int = int(trip1_time)\n",
    "\n",
    "### END SOLUTION"
   ]
  },
  {
   "cell_type": "code",
   "execution_count": 131,
   "metadata": {
    "nbgrader": {
     "grade": true,
     "grade_id": "90e571282281c7da5cd225b62eed8919",
     "locked": true,
     "points": 0.5,
     "schema_version": 3,
     "solution": false,
     "task": false
    }
   },
   "outputs": [],
   "source": [
    "# PUT ALL WORK FOR THE ABOVE QUESTION ABOVE THIS CELL\n",
    "# THIS UNALTERABLE CELL CONTAINS HIDDEN TESTS\n",
    "\n",
    "### BEGIN HIDDEN TESTS\n",
    "\n",
    "assert trip1_dist_int == 3793\n",
    "assert trip1_time_int == 1152\n",
    "\n",
    "### END HIDDEN TESTS"
   ]
  },
  {
   "cell_type": "markdown",
   "metadata": {
    "nbgrader": {
     "grade": false,
     "grade_id": "4b104f72f15aee3e6832638d122a264f",
     "locked": true,
     "schema_version": 3,
     "solution": false,
     "task": false
    }
   },
   "source": [
    "**Task 2b**: \n",
    " > create a new variable, `trip_distance_miles`, which represents the length of the trip in miles.  \n",
    "  > **hint** 1 mile is roughly equal to 1,609 meters."
   ]
  },
  {
   "cell_type": "code",
   "execution_count": 132,
   "metadata": {
    "nbgrader": {
     "grade": false,
     "grade_id": "89d48f0ca8e1195db728b4923cc92a9d",
     "locked": false,
     "schema_version": 3,
     "solution": true,
     "task": false
    }
   },
   "outputs": [],
   "source": [
    "# REplace None with the appropriate code\n",
    "trip_distance_miles = None\n",
    "\n",
    "### BEGIN SOLUTION\n",
    "\n",
    "trip_distance_miles = int(trip1_dist)/1609\n",
    "\n",
    "test = Test()\n",
    "\n",
    "\n",
    "test.save(trip_distance_miles, 'trip_distance_miles')\n",
    "\n",
    "\n",
    "### END SOLUTION"
   ]
  },
  {
   "cell_type": "code",
   "execution_count": 133,
   "metadata": {
    "nbgrader": {
     "grade": true,
     "grade_id": "ea2ce10fbd1c2e9af56fda353ead1d39",
     "locked": true,
     "points": 1,
     "schema_version": 3,
     "solution": false,
     "task": false
    }
   },
   "outputs": [],
   "source": [
    "# PUT ALL WORK FOR THE ABOVE QUESTION ABOVE THIS CELL\n",
    "# THIS UNALTERABLE CELL CONTAINS HIDDEN TESTS\n",
    "\n",
    "### BEGIN HIDDEN TESTS\n",
    "\n",
    "Test().run_test(trip_distance_miles,'trip_distance_miles')\n",
    "\n",
    "\n",
    "### END HIDDEN TESTS"
   ]
  },
  {
   "cell_type": "markdown",
   "metadata": {
    "nbgrader": {
     "grade": false,
     "grade_id": "e25a3f9722df370e2742c42666560f01",
     "locked": true,
     "schema_version": 3,
     "solution": false,
     "task": false
    }
   },
   "source": [
    "# List Manipulation"
   ]
  },
  {
   "cell_type": "markdown",
   "metadata": {
    "nbgrader": {
     "grade": false,
     "grade_id": "19a65240a62cd151a7c83b80342ca74a",
     "locked": true,
     "schema_version": 3,
     "solution": false,
     "task": false
    }
   },
   "source": [
    "## Task 3\n",
    "\n",
    "Below, you are provided with a list containing all the trip distances in the original data set.  "
   ]
  },
  {
   "cell_type": "code",
   "execution_count": 134,
   "metadata": {
    "nbgrader": {
     "grade": false,
     "grade_id": "42e2103a5a6dc17a42f52b66535dcb71",
     "locked": true,
     "schema_version": 3,
     "solution": false,
     "task": false
    }
   },
   "outputs": [],
   "source": [
    "trip_distances = load_trip_distance()"
   ]
  },
  {
   "cell_type": "markdown",
   "metadata": {
    "nbgrader": {
     "grade": false,
     "grade_id": "c3cbb82ac19988fc610aea2de852226c",
     "locked": true,
     "schema_version": 3,
     "solution": false,
     "task": false
    }
   },
   "source": [
    "**Task 3a**: \n",
    " > Determine how many rides are in the dataset, and assign that integer to the `number_of_rides` variable."
   ]
  },
  {
   "cell_type": "code",
   "execution_count": 135,
   "metadata": {
    "nbgrader": {
     "grade": false,
     "grade_id": "07e0cad70f1fd50f9108dd202269502b",
     "locked": false,
     "schema_version": 3,
     "solution": true,
     "task": false
    }
   },
   "outputs": [],
   "source": [
    "# Replace None with the appropriate code\n",
    "number_of_rides = None\n",
    "\n",
    "### BEGIN SOLUTION\n",
    "\n",
    "number_of_rides = len(trip_distances)\n",
    "\n",
    "### END SOLUTION"
   ]
  },
  {
   "cell_type": "code",
   "execution_count": 136,
   "metadata": {
    "nbgrader": {
     "grade": true,
     "grade_id": "7c19d234a4b1c86b05873e81be6a27cf",
     "locked": true,
     "points": 1,
     "schema_version": 3,
     "solution": false,
     "task": false
    }
   },
   "outputs": [],
   "source": [
    "assert type(number_of_rides) == int\n",
    "\n",
    "# PUT ALL WORK FOR THE ABOVE QUESTION ABOVE THIS CELL\n",
    "# THIS UNALTERABLE CELL CONTAINS HIDDEN TESTS\n",
    "\n",
    "### BEGIN HIDDEN TESTS\n",
    "\n",
    "assert number_of_rides == 943\n",
    "\n",
    "### END HIDDEN TESTS"
   ]
  },
  {
   "cell_type": "markdown",
   "metadata": {
    "nbgrader": {
     "grade": false,
     "grade_id": "46ae13af860800c688657f10b63f485a",
     "locked": true,
     "schema_version": 3,
     "solution": false,
     "task": false
    }
   },
   "source": [
    "Although you cannot tell from the list by itself, the rides are ordered by start_community_area_number.  \n",
    "The first 7 rides correspond to rides that started in community area 15.  \n",
    "\n",
    "**Task 3b:**\n",
    "  > Create a new variable, `trips_start_15` which contains a slice of the list corresponding to the first 7 rides.  "
   ]
  },
  {
   "cell_type": "code",
   "execution_count": 137,
   "metadata": {
    "nbgrader": {
     "grade": false,
     "grade_id": "5f5ee09eee362ea889e4adafa0e8be32",
     "locked": false,
     "schema_version": 3,
     "solution": true,
     "task": false
    }
   },
   "outputs": [],
   "source": [
    "# Replace None with the appropriate code\n",
    "\n",
    "trips_start_15 = None\n",
    "\n",
    "### BEGIN SOLUTION\n",
    "\n",
    "\n",
    "from test_scripts.test_class import Test\n",
    "test = Test()\n",
    "\n",
    "trips_start_15 = trip_distances[:7]\n",
    "\n",
    "test.save(trips_start_15, 'trips_start_15')\n",
    "\n",
    "\n",
    "\n",
    "### END SOLUTION"
   ]
  },
  {
   "cell_type": "code",
   "execution_count": 138,
   "metadata": {
    "nbgrader": {
     "grade": true,
     "grade_id": "259ef7540cd9cffa2c2edfa704609898",
     "locked": true,
     "points": 1,
     "schema_version": 3,
     "solution": false,
     "task": false
    }
   },
   "outputs": [],
   "source": [
    "assert type(trips_start_15) == list\n",
    "\n",
    "# PUT ALL WORK FOR THE ABOVE QUESTION ABOVE THIS CELL\n",
    "# THIS UNALTERABLE CELL CONTAINS HIDDEN TESTS\n",
    "\n",
    "### BEGIN HIDDEN TESTS\n",
    "\n",
    "test = Test()\n",
    "\n",
    "test.run_test(trips_start_15, 'trips_start_15')\n",
    "\n",
    "\n",
    "### END HIDDEN TESTS"
   ]
  },
  {
   "cell_type": "markdown",
   "metadata": {
    "nbgrader": {
     "grade": false,
     "grade_id": "3da6e8a7d38d634e20e73a16320d4b6a",
     "locked": true,
     "schema_version": 3,
     "solution": false,
     "task": false
    }
   },
   "source": [
    "**Task 3c:**\n",
    "\n",
    "  > Add a new element - `the integer 1500` - to the end of the trip_distances list."
   ]
  },
  {
   "cell_type": "code",
   "execution_count": 149,
   "metadata": {
    "nbgrader": {
     "grade": false,
     "grade_id": "d57cea1d68b2ec466c5ab7917ff8c61f",
     "locked": false,
     "schema_version": 3,
     "solution": true,
     "task": false
    }
   },
   "outputs": [],
   "source": [
    "# Your code here\n",
    "\n",
    "### BEGIN SOLUTION\n",
    "\n",
    "trip_distances.append(1500)\n",
    "\n",
    "### END SOLUTION"
   ]
  },
  {
   "cell_type": "code",
   "execution_count": 150,
   "metadata": {
    "nbgrader": {
     "grade": true,
     "grade_id": "84ab31bbe8d0603862b47c27cdda7588",
     "locked": true,
     "points": 1,
     "schema_version": 3,
     "solution": false,
     "task": false
    }
   },
   "outputs": [],
   "source": [
    "# PUT ALL WORK FOR THE ABOVE QUESTION ABOVE THIS CELL\n",
    "# THIS UNALTERABLE CELL CONTAINS HIDDEN TESTS\n",
    "\n",
    "### BEGIN HIDDEN TESTS\n",
    "\n",
    "assert trip_distances[-1] == 1500\n",
    "\n",
    "### END HIDDEN TESTS"
   ]
  },
  {
   "cell_type": "markdown",
   "metadata": {
    "nbgrader": {
     "grade": false,
     "grade_id": "b3c42d1fcaab3084fc0bd2cb0a711e21",
     "locked": true,
     "schema_version": 3,
     "solution": false,
     "task": false
    }
   },
   "source": [
    "## Task 4:  Basic Dictionary Manipulation\n",
    "\n",
    "The original data comes in the form of dictionaries.  The data for each trip is stored as is shown below for the first trip.\n"
   ]
  },
  {
   "cell_type": "code",
   "execution_count": 151,
   "metadata": {
    "nbgrader": {
     "grade": false,
     "grade_id": "7cafc0be9e220cd253b4989467ebc44d",
     "locked": true,
     "schema_version": 3,
     "solution": false,
     "task": false
    }
   },
   "outputs": [],
   "source": [
    "trip_1 = {'trip_id': '33b50938-5626-4124-ba57-cc0a3dd058aa',\n",
    "          'trip_distance': '3793',\n",
    "          'trip_duration': '1152',\n",
    "          'start_community_area_number': '15',\n",
    "          'end_community_area_number': '15'}\n"
   ]
  },
  {
   "cell_type": "markdown",
   "metadata": {
    "nbgrader": {
     "grade": false,
     "grade_id": "672e5440180644f24958d697666cbb27",
     "locked": true,
     "schema_version": 3,
     "solution": false,
     "task": false
    }
   },
   "source": [
    "**Task 4a**: \n",
    "  > As you can see in the cell above, trip distance is defined as a `string`.\n",
    "  > Using key value pairs, reassign the `trip_distance` value to the `integer 3793`."
   ]
  },
  {
   "cell_type": "code",
   "execution_count": 152,
   "metadata": {
    "nbgrader": {
     "grade": false,
     "grade_id": "42f917882d30bea8ce6807411e4e53ea",
     "locked": false,
     "schema_version": 3,
     "solution": true,
     "task": false
    }
   },
   "outputs": [],
   "source": [
    "# Your code here\n",
    "\n",
    "### BEGIN SOLUTION\n",
    "\n",
    "trip_1['trip_distance'] = 3793\n",
    "\n",
    "### END SOLUTION"
   ]
  },
  {
   "cell_type": "code",
   "execution_count": 153,
   "metadata": {
    "nbgrader": {
     "grade": true,
     "grade_id": "80eb2ffb669f5708da97b7fdcb912722",
     "locked": true,
     "points": 1,
     "schema_version": 3,
     "solution": false,
     "task": false
    }
   },
   "outputs": [],
   "source": [
    "# PUT ALL WORK FOR THE ABOVE QUESTION ABOVE THIS CELL\n",
    "# THIS UNALTERABLE CELL CONTAINS HIDDEN TESTS\n",
    "\n",
    "### BEGIN HIDDEN TESTS\n",
    "\n",
    "assert trip_1['trip_distance'] == 3793\n",
    "\n",
    "\n",
    "### END HIDDEN TESTS"
   ]
  },
  {
   "cell_type": "markdown",
   "metadata": {
    "nbgrader": {
     "grade": false,
     "grade_id": "330e6fd5282bcd11ea6d7d1818dcd99f",
     "locked": true,
     "schema_version": 3,
     "solution": false,
     "task": false
    }
   },
   "source": [
    "**Task 4b**:\n",
    "  > create a new key value pair within `trip_1` representing the name of the start area community name: `Portage Park` .  Use `start_area_community_name` as the key."
   ]
  },
  {
   "cell_type": "code",
   "execution_count": 154,
   "metadata": {
    "nbgrader": {
     "grade": false,
     "grade_id": "1a1c30ed285facd04a4fb493e901fe12",
     "locked": false,
     "schema_version": 3,
     "solution": true,
     "task": false
    }
   },
   "outputs": [],
   "source": [
    "# Your code here\n",
    "\n",
    "### BEGIN SOLUTION\n",
    "\n",
    "trip_1['start_area_community_name'] = 'Portage Park'\n",
    "\n",
    "### END SOLUTION"
   ]
  },
  {
   "cell_type": "code",
   "execution_count": 156,
   "metadata": {
    "nbgrader": {
     "grade": true,
     "grade_id": "3b6f0a983c3dbad3d5d584e5c38082a3",
     "locked": true,
     "points": 1,
     "schema_version": 3,
     "solution": false,
     "task": false
    }
   },
   "outputs": [],
   "source": [
    "# PUT ALL WORK FOR THE ABOVE QUESTION ABOVE THIS CELL\n",
    "# THIS UNALTERABLE CELL CONTAINS HIDDEN TESTS\n",
    "\n",
    "### BEGIN HIDDEN TESTS\n",
    "\n",
    "assert trip_1['start_area_community_name'] == 'Portage Park'\n",
    "\n",
    "### END HIDDEN TESTS"
   ]
  },
  {
   "cell_type": "markdown",
   "metadata": {
    "nbgrader": {
     "grade": false,
     "grade_id": "21a467296cdb621b397f68c43fad917b",
     "locked": true,
     "schema_version": 3,
     "solution": false,
     "task": false
    }
   },
   "source": [
    "# Task 5: For-Loops and if/else statements\n",
    "\n",
    "Let's return to the trip_distances list, reloaded below for your convenience:"
   ]
  },
  {
   "cell_type": "code",
   "execution_count": 157,
   "metadata": {
    "nbgrader": {
     "grade": false,
     "grade_id": "293eceacfbd12230e8631e5d19f8e2ea",
     "locked": true,
     "schema_version": 3,
     "solution": false,
     "task": false
    }
   },
   "outputs": [],
   "source": [
    "trip_distances = load_trip_distance()\n"
   ]
  },
  {
   "cell_type": "markdown",
   "metadata": {
    "nbgrader": {
     "grade": false,
     "grade_id": "f8f77110c6ae750b17fef637104e1966",
     "locked": true,
     "schema_version": 3,
     "solution": false,
     "task": false
    }
   },
   "source": [
    "**Task 5a:**\n",
    " > Using a **for-loop** and **if/else** statements, create a new list called `short_rides` which holds all rides less than or equal to 700 meters.   \n"
   ]
  },
  {
   "cell_type": "code",
   "execution_count": 160,
   "metadata": {
    "nbgrader": {
     "grade": false,
     "grade_id": "b3cba200bdd94eab76a730a4d29298f4",
     "locked": false,
     "schema_version": 3,
     "solution": true,
     "task": false
    }
   },
   "outputs": [],
   "source": [
    "# Replace None with the appropriate code, as well as add the for look code below.\n",
    "short_rides = None\n",
    "\n",
    "### BEGIN SOLUTION\n",
    "\n",
    "test = Test()\n",
    "\n",
    "short_rides = []\n",
    "\n",
    "for trip in trip_distances:\n",
    "    \n",
    "    if trip  <= 700:\n",
    "        short_rides.append(trip)\n",
    "        \n",
    "test.save(short_rides, 'short_rides_list')\n",
    "\n",
    "\n",
    "\n",
    "### END SOLUTION"
   ]
  },
  {
   "cell_type": "code",
   "execution_count": 164,
   "metadata": {
    "nbgrader": {
     "grade": true,
     "grade_id": "871818d0723fa38bc916950b7559ee69",
     "locked": true,
     "points": 1,
     "schema_version": 3,
     "solution": false,
     "task": false
    }
   },
   "outputs": [],
   "source": [
    "assert type(short_rides) == list\n",
    "# PUT ALL WORK FOR THE ABOVE QUESTION ABOVE THIS CELL\n",
    "# THIS UNALTERABLE CELL CONTAINS HIDDEN TESTS\n",
    "\n",
    "### BEGIN HIDDEN TESTS\n",
    "\n",
    "test = Test()\n",
    "\n",
    "test.run_test(short_rides, 'short_rides_list')\n",
    "\n",
    "\n",
    "### END HIDDEN TESTS"
   ]
  },
  {
   "cell_type": "markdown",
   "metadata": {
    "nbgrader": {
     "grade": false,
     "grade_id": "a35a2ddc13e99b4ea1f7725e7d402cb9",
     "locked": true,
     "schema_version": 3,
     "solution": false,
     "task": false
    }
   },
   "source": [
    "**Task 5b**:\n",
    "    \n",
    "  > Add another conditional statement to the for loop above to create two lists simultaneously: `short_rides` and `long_rides`.   \n",
    "  >> `short_rides` should consist of rides less than or equal to 700 meters.  \n",
    "  >> `long_rides` should consist of rides greater than or equal to 5,000 meters.\n",
    "    "
   ]
  },
  {
   "cell_type": "code",
   "execution_count": 166,
   "metadata": {
    "nbgrader": {
     "grade": false,
     "grade_id": "12176d1557b842977a4ab7d4175b32a2",
     "locked": false,
     "schema_version": 3,
     "solution": true,
     "task": false
    }
   },
   "outputs": [],
   "source": [
    "# Replace None with the appropriate code, as well as add the for look code below.\n",
    "short_rides = None\n",
    "long_rides  = None\n",
    "\n",
    "### BEGIN SOLUTION\n",
    "\n",
    "\n",
    "from test_scripts.test_class import Test\n",
    "test = Test()\n",
    "\n",
    "\n",
    "short_rides = []\n",
    "long_rides = []\n",
    "\n",
    "for trip in trip_distances:\n",
    "    \n",
    "    if trip  <= 700:\n",
    "        short_rides.append(trip)\n",
    "    \n",
    "    elif trip >= 5000:\n",
    "        long_rides.append(trip)\n",
    "\n",
    "test.save(long_rides, 'long_rides_list')\n",
    "\n",
    "\n",
    "\n",
    "### END SOLUTION"
   ]
  },
  {
   "cell_type": "code",
   "execution_count": 168,
   "metadata": {
    "nbgrader": {
     "grade": true,
     "grade_id": "b4118e01e63eab163303c41f7206a934",
     "locked": true,
     "points": 1,
     "schema_version": 3,
     "solution": false,
     "task": false
    }
   },
   "outputs": [],
   "source": [
    "assert type(short_rides) == list\n",
    "assert type(long_rides) == list\n",
    "\n",
    "# PUT ALL WORK FOR THE ABOVE QUESTION ABOVE THIS CELL\n",
    "# THIS UNALTERABLE CELL CONTAINS HIDDEN TESTS\n",
    "\n",
    "### BEGIN HIDDEN TESTS\n",
    "\n",
    "test = Test()\n",
    "\n",
    "test.run_test(short_rides, 'short_rides_list')\n",
    "test.run_test(long_rides, 'long_rides_list')\n",
    "\n",
    "\n",
    "### END HIDDEN TESTS"
   ]
  },
  {
   "cell_type": "markdown",
   "metadata": {
    "nbgrader": {
     "grade": false,
     "grade_id": "9bc9cf7a52fd8274f6cd83210ad8b6f7",
     "locked": true,
     "schema_version": 3,
     "solution": false,
     "task": false
    }
   },
   "source": [
    "## Task 6: Functions"
   ]
  },
  {
   "cell_type": "markdown",
   "metadata": {
    "nbgrader": {
     "grade": false,
     "grade_id": "1bb027d5878c6ba68e3ff2bf0330a61f",
     "locked": true,
     "schema_version": 3,
     "solution": false,
     "task": false
    }
   },
   "source": [
    "> Create a simple function named `longest_ride` which takes the a list of integers as a **parameter** and **returns** the largest integer.\n",
    "\n",
    "> Passing `trip_distances` as an argument to the function should result in the function returning the distance of the longest ride in meters."
   ]
  },
  {
   "cell_type": "code",
   "execution_count": 175,
   "metadata": {
    "nbgrader": {
     "grade": false,
     "grade_id": "a7e3c6e61f29b84f97bc856be47196bf",
     "locked": false,
     "schema_version": 3,
     "solution": true,
     "task": false
    }
   },
   "outputs": [],
   "source": [
    "# Fill in the missing parts of the function below\n",
    "def longest_ride():\n",
    "    '''A function that takes a list of trip distances and \n",
    "    returns the distance of the longest trip in the original units: meters'''\n",
    "    \n",
    "    \n",
    "### BEGIN SOLUTION\n",
    "def longest_ride(trip_distance_list):\n",
    "    '''A function that takes a list of trip distances and \n",
    "    returns the distance of the longest trip in the original units: meters'''\n",
    "    \n",
    "    return max(trip_distances)\n",
    "        \n",
    "### END SOLUTION"
   ]
  },
  {
   "cell_type": "code",
   "execution_count": 176,
   "metadata": {
    "nbgrader": {
     "grade": true,
     "grade_id": "4dbe41df913e7e319abf03c5c339e114",
     "locked": true,
     "points": 1,
     "schema_version": 3,
     "solution": false,
     "task": false
    }
   },
   "outputs": [],
   "source": [
    "assert type(longest_ride(trip_distances)) == int\n",
    "\n",
    "# PUT ALL WORK FOR THE ABOVE QUESTION ABOVE THIS CELL\n",
    "# THIS UNALTERABLE CELL CONTAINS HIDDEN TESTS\n",
    "\n",
    "### BEGIN HIDDEN TESTS\n",
    "\n",
    "assert longest_ride(trip_distances) == 15658\n",
    "\n",
    "\n",
    "### END HIDDEN TESTS"
   ]
  },
  {
   "cell_type": "markdown",
   "metadata": {
    "nbgrader": {
     "grade": false,
     "grade_id": "f89bca1fc145d2409a89edb8e5dc6198",
     "locked": true,
     "schema_version": 3,
     "solution": false,
     "task": false
    }
   },
   "source": [
    "# Bonus task\n",
    "\n",
    "The original data comes from an API query that returns a json object.  We will cover json's soon.  Below, this json object is converted to a list of dictionaries.  "
   ]
  },
  {
   "cell_type": "code",
   "execution_count": 178,
   "metadata": {
    "nbgrader": {
     "grade": false,
     "grade_id": "cell-bdb4558377271c92",
     "locked": true,
     "schema_version": 3,
     "solution": false,
     "task": false
    }
   },
   "outputs": [],
   "source": [
    "trips_list = load_scooter()"
   ]
  },
  {
   "cell_type": "markdown",
   "metadata": {
    "nbgrader": {
     "grade": false,
     "grade_id": "c163b028c4ae62921403a14fccfd5be3",
     "locked": true,
     "schema_version": 3,
     "solution": false,
     "task": false
    }
   },
   "source": [
    "We see the first trip once again as accessed using the first index in the trips_dictionary."
   ]
  },
  {
   "cell_type": "code",
   "execution_count": 179,
   "metadata": {
    "nbgrader": {
     "grade": false,
     "grade_id": "cell-16a1178def6c5386",
     "locked": true,
     "schema_version": 3,
     "solution": false,
     "task": false
    }
   },
   "outputs": [
    {
     "data": {
      "text/plain": [
       "{'trip_id': '33b50938-5626-4124-ba57-cc0a3dd058aa',\n",
       " 'trip_distance': '3793',\n",
       " 'trip_duration': '1152',\n",
       " 'start_community_area_number': '15',\n",
       " 'end_community_area_number': '15'}"
      ]
     },
     "execution_count": 179,
     "metadata": {},
     "output_type": "execute_result"
    }
   ],
   "source": [
    "trips_list[0]"
   ]
  },
  {
   "cell_type": "markdown",
   "metadata": {
    "nbgrader": {
     "grade": false,
     "grade_id": "62467c92656d699584d88ceaf2ba69f9",
     "locked": true,
     "schema_version": 3,
     "solution": false,
     "task": false
    }
   },
   "source": [
    "Create a function called `get_start_area_rides`, which takes two **parameters**:\n",
    "\n",
    "    `start_area`: a string representing the community number of a trip's start community area number.\n",
    "    `trips_list`: the full **list** of rides imported above as `trips_list`\n",
    "    \n",
    "The function should loop through the rides and select only those which start in the community area fed to it as an argument.\n",
    "\n",
    "It should **return** a list of rides, each of which is the full dictionary describing the data of the ride.\n"
   ]
  },
  {
   "cell_type": "code",
   "execution_count": 181,
   "metadata": {
    "nbgrader": {
     "grade": false,
     "grade_id": "4647b0f5e7602cc47995f5964dd6465e",
     "locked": false,
     "schema_version": 3,
     "solution": true,
     "task": false
    }
   },
   "outputs": [],
   "source": [
    "# Your code here\n",
    "\n",
    "def get_start_area_rides():\n",
    "    pass\n",
    "\n",
    "\n",
    "### BEGIN SOLUTION\n",
    "\n",
    "test = Test()\n",
    "\n",
    "def get_start_area_rides(start_area, trips_list):\n",
    "    \n",
    "    '''\n",
    "    Return a list of all rides for a given start area.\n",
    "    \n",
    "    Params\n",
    "    data: a list of rides, each of which is a dictionary of data.\n",
    "    start_area: a string representing a community start area\n",
    "    ----\n",
    "    returns\n",
    "    community_area_rides: a list of all rides in a given community area\n",
    "    '''\n",
    "    \n",
    "    community_area_rides = []\n",
    "    \n",
    "    for ride in trips_list:\n",
    "        if ride['start_community_area_number'] == start_area:\n",
    "            community_area_rides.append(ride)\n",
    "    \n",
    "    return community_area_rides\n",
    "\n",
    "test.save(get_start_area_rides('15', trips_list), 'start_comm_area_15_rides')\n",
    "\n",
    "\n",
    "### END SOLUTION"
   ]
  },
  {
   "cell_type": "code",
   "execution_count": 183,
   "metadata": {
    "nbgrader": {
     "grade": true,
     "grade_id": "b317d7360247ac77f2e71eeaac08f1b7",
     "locked": true,
     "points": 1,
     "schema_version": 3,
     "solution": false,
     "task": false
    }
   },
   "outputs": [],
   "source": [
    "assert type(get_start_area_rides('15', trips_list)) == list\n",
    "\n",
    "# PUT ALL WORK FOR THE ABOVE QUESTION ABOVE THIS CELL\n",
    "# THIS UNALTERABLE CELL CONTAINS HIDDEN TESTS\n",
    "\n",
    "### BEGIN HIDDEN TESTS\n",
    "\n",
    "test = Test()\n",
    "\n",
    "test.run_test(get_start_area_rides('15', trips_list), 'start_comm_area_15_rides')\n",
    "\n",
    "\n",
    "### END HIDDEN TESTS"
   ]
  }
 ],
 "metadata": {
  "celltoolbar": "Create Assignment",
  "kernelspec": {
   "display_name": "learn-env",
   "language": "python",
   "name": "learn-env"
  },
  "language_info": {
   "codemirror_mode": {
    "name": "ipython",
    "version": 3
   },
   "file_extension": ".py",
   "mimetype": "text/x-python",
   "name": "python",
   "nbconvert_exporter": "python",
   "pygments_lexer": "ipython3",
   "version": "3.8.5"
  }
 },
 "nbformat": 4,
 "nbformat_minor": 4
}
